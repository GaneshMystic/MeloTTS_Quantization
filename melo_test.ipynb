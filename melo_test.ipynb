{
 "cells": [
  {
   "cell_type": "code",
   "execution_count": 17,
   "metadata": {},
   "outputs": [
    {
     "name": "stderr",
     "output_type": "stream",
     "text": [
      "/home/codespace/.local/lib/python3.10/site-packages/torch/nn/utils/weight_norm.py:28: UserWarning: torch.nn.utils.weight_norm is deprecated in favor of torch.nn.utils.parametrizations.weight_norm.\n",
      "  warnings.warn(\"torch.nn.utils.weight_norm is deprecated in favor of torch.nn.utils.parametrizations.weight_norm.\")\n"
     ]
    }
   ],
   "source": [
    "from melo.api import TTS\n",
    "from IPython.display import Audio\n",
    "\n",
    "# Speed is adjustable\n",
    "speed = 1.0\n",
    "\n",
    "# CPU is sufficient for real-time inference.\n",
    "# You can set it manually to 'cpu' or 'cuda' or 'cuda:0' or 'mps'\n",
    "device = 'auto' # Will automatically use GPU if available\n",
    "\n",
    "# English\n",
    "model = TTS(language='EN', device=device)\n",
    "speaker_ids = model.hps.data.spk2id\n",
    "\n"
   ]
  },
  {
   "cell_type": "code",
   "execution_count": 18,
   "metadata": {},
   "outputs": [
    {
     "name": "stdout",
     "output_type": "stream",
     "text": [
      " > Text split to sentences.\n",
      "You will be able to reuse this secret in all of your notebooks. Please note that authentication is recommended but still optional to access public models or datasets.\n",
      " > ===========================\n"
     ]
    },
    {
     "name": "stderr",
     "output_type": "stream",
     "text": [
      "  0%|          | 0/1 [00:00<?, ?it/s]Some weights of the model checkpoint at bert-base-uncased were not used when initializing BertForMaskedLM: ['bert.pooler.dense.bias', 'bert.pooler.dense.weight', 'cls.seq_relationship.bias', 'cls.seq_relationship.weight']\n",
      "- This IS expected if you are initializing BertForMaskedLM from the checkpoint of a model trained on another task or with another architecture (e.g. initializing a BertForSequenceClassification model from a BertForPreTraining model).\n",
      "- This IS NOT expected if you are initializing BertForMaskedLM from the checkpoint of a model that you expect to be exactly identical (initializing a BertForSequenceClassification model from a BertForSequenceClassification model).\n"
     ]
    }
   ],
   "source": [
    "# American accent\n",
    "text = \"\"\"\n",
    "You will be able to reuse this secret in all of your notebooks.\n",
    "Please note that authentication is recommended but still optional to access public models or datasets.\n",
    "\"\"\"\n",
    "output_path = 'en-us.wav'\n",
    "model.tts_to_file(text, speaker_ids['EN-US'], output_path, speed=speed)\n",
    "\n",
    "\n",
    "# Load the wav file\n",
    "audio_file_path = \"en-us.wav\"\n",
    "\n",
    "# Display the audio player\n",
    "Audio(audio_file_path, autoplay=True)\n",
    "\n",
    "#23 seconds -> cpu\n",
    "#3 seconds -> gpu"
   ]
  }
 ],
 "metadata": {
  "kernelspec": {
   "display_name": "Python 3",
   "language": "python",
   "name": "python3"
  },
  "language_info": {
   "codemirror_mode": {
    "name": "ipython",
    "version": 3
   },
   "file_extension": ".py",
   "mimetype": "text/x-python",
   "name": "python",
   "nbconvert_exporter": "python",
   "pygments_lexer": "ipython3",
   "version": "3.10.13"
  }
 },
 "nbformat": 4,
 "nbformat_minor": 2
}
